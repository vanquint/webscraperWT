{
 "cells": [
  {
   "cell_type": "code",
   "execution_count": 2,
   "metadata": {},
   "outputs": [],
   "source": [
    "import requests\n",
    "import lxml\n",
    "import bs4\n",
    "import re\n",
    "import json\n",
    "import os\n",
    "import pandas as pd\n",
    "from scrapfly import ScrapflyClient, ScrapeConfig\n"
   ]
  },
  {
   "cell_type": "code",
   "execution_count": 48,
   "metadata": {},
   "outputs": [],
   "source": [
    "a = \"https://www.google.nl/search?q=data+engineer+nederland&oq=google+va&gs_lcrp=EgZjaHJvbWUqCQgAEEUYOxiABDIJCAAQRRg7GIAEMgcIARAAGIAEMgcIAhAAGIAEMgYIAxBFGEAyBggEEEUYOTIGCAUQRRg8MgYIBhBFGDwyBggHEEUYPKgCALACAA&sourceid=chrome&ie=UTF-8&ibp=htl;jobs&sa=X&sqi=2&ved=2ahUKEwiMiM709fKBAxUxwAIHHeuNANEQudcGKAF6BAgWEDo#fpstate=tldetail&htivrt=jobs&htichips=date_posted:today&htischips=date_posted;today&htidocid=5QKjHuS9xrEyt9cfAAAAAA%3D%3D\"\n",
    "base_url = a"
   ]
  },
  {
   "cell_type": "code",
   "execution_count": 49,
   "metadata": {},
   "outputs": [],
   "source": [
    "client = ScrapflyClient(key=\"scp-live-97e66d928428429c8ae1f3d0d9d2a352\")\n",
    "result = client.scrape(ScrapeConfig(\n",
    "    url=base_url,\n",
    "    asp=True,\n",
    "    # ^ enable Anti Scraping Protection\n",
    "))\n"
   ]
  },
  {
   "cell_type": "code",
   "execution_count": 50,
   "metadata": {},
   "outputs": [],
   "source": [
    "soup = bs4.BeautifulSoup(result.content, \"lxml\")"
   ]
  },
  {
   "cell_type": "code",
   "execution_count": 51,
   "metadata": {},
   "outputs": [
    {
     "name": "stdout",
     "output_type": "stream",
     "text": [
      "[<div class=\"BjJfJf PUpOsf\">Systeem Data Engineer</div>, <div class=\"BjJfJf PUpOsf\">Data engineer</div>, <div class=\"BjJfJf PUpOsf\">Data engineer 32-40 uur - Remote</div>, <div class=\"BjJfJf PUpOsf\">Medior Data Engineer</div>, <div class=\"BjJfJf PUpOsf\">Medior Data Engineer</div>, <div class=\"BjJfJf PUpOsf\">Data engineer</div>, <div class=\"BjJfJf PUpOsf\">Data Engineer</div>, <div class=\"BjJfJf PUpOsf\">Data Engineer | IT</div>, <div class=\"BjJfJf PUpOsf\">Data Engineer</div>, <div class=\"BjJfJf PUpOsf\">Data Engineer, Data Scientist, Machine Learning Engineer, MLOps...</div>]\n"
     ]
    }
   ],
   "source": [
    "job_titles = soup.find_all(class_='BjJfJf PUpOsf')\n",
    "print(job_titles)"
   ]
  },
  {
   "cell_type": "code",
   "execution_count": 52,
   "metadata": {},
   "outputs": [
    {
     "name": "stdout",
     "output_type": "stream",
     "text": [
      "Systeem Data Engineer\n",
      "Data engineer\n",
      "Data engineer 32-40 uur - Remote\n",
      "Medior Data Engineer\n",
      "Medior Data Engineer\n",
      "Data engineer\n",
      "Data Engineer\n",
      "Data Engineer | IT\n",
      "Data Engineer\n",
      "Data Engineer, Data Scientist, Machine Learning Engineer, MLOps...\n"
     ]
    }
   ],
   "source": [
    "jobs = []\n",
    "\n",
    "for title in job_titles:\n",
    "        jobs.append(title.text)\n",
    "        print(title.text)"
   ]
  },
  {
   "cell_type": "code",
   "execution_count": 53,
   "metadata": {},
   "outputs": [
    {
     "name": "stdout",
     "output_type": "stream",
     "text": [
      "[<div class=\"vNEEBe\">Belastingdienst</div>, <div class=\"vNEEBe\">Antea Group Nederland</div>, <div class=\"vNEEBe\">Meerlanden</div>, <div class=\"vNEEBe\">LeasePlan</div>, <div class=\"vNEEBe\">Coolblue</div>, <div class=\"vNEEBe\">Belastingdienst</div>, <div class=\"vNEEBe\">RED Global</div>, <div class=\"vNEEBe\">ALTEN Netherlands</div>, <div class=\"vNEEBe\">Eminent Groep</div>, <div class=\"vNEEBe\">Planahead</div>]\n"
     ]
    }
   ],
   "source": [
    "company_titles = soup.find_all(class_='vNEEBe')\n",
    "print(company_titles)"
   ]
  },
  {
   "cell_type": "code",
   "execution_count": 54,
   "metadata": {},
   "outputs": [
    {
     "name": "stdout",
     "output_type": "stream",
     "text": [
      "Belastingdienst\n",
      "Antea Group Nederland\n",
      "Meerlanden\n",
      "LeasePlan\n",
      "Coolblue\n",
      "Belastingdienst\n",
      "RED Global\n",
      "ALTEN Netherlands\n",
      "Eminent Groep\n",
      "Planahead\n"
     ]
    }
   ],
   "source": [
    "companies = []\n",
    "\n",
    "for title1 in company_titles:\n",
    "        companies.append(title1.text)\n",
    "        print(title1.text)"
   ]
  }
 ],
 "metadata": {
  "kernelspec": {
   "display_name": "Python 3",
   "language": "python",
   "name": "python3"
  },
  "language_info": {
   "codemirror_mode": {
    "name": "ipython",
    "version": 3
   },
   "file_extension": ".py",
   "mimetype": "text/x-python",
   "name": "python",
   "nbconvert_exporter": "python",
   "pygments_lexer": "ipython3",
   "version": "3.11.4"
  },
  "orig_nbformat": 4
 },
 "nbformat": 4,
 "nbformat_minor": 2
}

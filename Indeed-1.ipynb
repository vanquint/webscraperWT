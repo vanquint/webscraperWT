{
 "cells": [
  {
   "cell_type": "code",
   "execution_count": 24,
   "metadata": {},
   "outputs": [
    {
     "name": "stdout",
     "output_type": "stream",
     "text": [
      "Requirement already satisfied: requests in /Library/Frameworks/Python.framework/Versions/3.11/lib/python3.11/site-packages (2.31.0)\n",
      "Requirement already satisfied: charset-normalizer<4,>=2 in /Library/Frameworks/Python.framework/Versions/3.11/lib/python3.11/site-packages (from requests) (3.2.0)\n",
      "Requirement already satisfied: idna<4,>=2.5 in /Library/Frameworks/Python.framework/Versions/3.11/lib/python3.11/site-packages (from requests) (3.4)\n",
      "Requirement already satisfied: urllib3<3,>=1.21.1 in /Library/Frameworks/Python.framework/Versions/3.11/lib/python3.11/site-packages (from requests) (2.0.4)\n",
      "Requirement already satisfied: certifi>=2017.4.17 in /Library/Frameworks/Python.framework/Versions/3.11/lib/python3.11/site-packages (from requests) (2023.7.22)\n",
      "Note: you may need to restart the kernel to use updated packages.\n"
     ]
    }
   ],
   "source": [
    "pip install requests"
   ]
  },
  {
   "cell_type": "code",
   "execution_count": 8,
   "metadata": {},
   "outputs": [
    {
     "name": "stdout",
     "output_type": "stream",
     "text": [
      "Requirement already satisfied: lxml in /Library/Frameworks/Python.framework/Versions/3.11/lib/python3.11/site-packages (4.9.3)\n",
      "Note: you may need to restart the kernel to use updated packages.\n"
     ]
    }
   ],
   "source": [
    "pip install lxml"
   ]
  },
  {
   "cell_type": "code",
   "execution_count": 25,
   "metadata": {},
   "outputs": [
    {
     "name": "stdout",
     "output_type": "stream",
     "text": [
      "Requirement already satisfied: bs4 in /Library/Frameworks/Python.framework/Versions/3.11/lib/python3.11/site-packages (0.0.1)\n",
      "Requirement already satisfied: beautifulsoup4 in /Library/Frameworks/Python.framework/Versions/3.11/lib/python3.11/site-packages (from bs4) (4.12.2)\n",
      "Requirement already satisfied: soupsieve>1.2 in /Library/Frameworks/Python.framework/Versions/3.11/lib/python3.11/site-packages (from beautifulsoup4->bs4) (2.4.1)\n",
      "Note: you may need to restart the kernel to use updated packages.\n"
     ]
    }
   ],
   "source": [
    "pip install bs4"
   ]
  },
  {
   "cell_type": "code",
   "execution_count": 26,
   "metadata": {},
   "outputs": [],
   "source": [
    "import requests"
   ]
  },
  {
   "cell_type": "code",
   "execution_count": 27,
   "metadata": {},
   "outputs": [],
   "source": [
    "import lxml"
   ]
  },
  {
   "cell_type": "code",
   "execution_count": 28,
   "metadata": {},
   "outputs": [],
   "source": [
    "import bs4"
   ]
  },
  {
   "cell_type": "code",
   "execution_count": 4,
   "metadata": {},
   "outputs": [
    {
     "name": "stdout",
     "output_type": "stream",
     "text": [
      "Requirement already satisfied: httpx in /Library/Frameworks/Python.framework/Versions/3.11/lib/python3.11/site-packages (0.25.0)\n",
      "Requirement already satisfied: certifi in /Library/Frameworks/Python.framework/Versions/3.11/lib/python3.11/site-packages (from httpx) (2023.7.22)\n",
      "Requirement already satisfied: httpcore<0.19.0,>=0.18.0 in /Library/Frameworks/Python.framework/Versions/3.11/lib/python3.11/site-packages (from httpx) (0.18.0)\n",
      "Requirement already satisfied: idna in /Library/Frameworks/Python.framework/Versions/3.11/lib/python3.11/site-packages (from httpx) (3.4)\n",
      "Requirement already satisfied: sniffio in /Library/Frameworks/Python.framework/Versions/3.11/lib/python3.11/site-packages (from httpx) (1.3.0)\n",
      "Requirement already satisfied: anyio<5.0,>=3.0 in /Library/Frameworks/Python.framework/Versions/3.11/lib/python3.11/site-packages (from httpcore<0.19.0,>=0.18.0->httpx) (3.7.1)\n",
      "Requirement already satisfied: h11<0.15,>=0.13 in /Library/Frameworks/Python.framework/Versions/3.11/lib/python3.11/site-packages (from httpcore<0.19.0,>=0.18.0->httpx) (0.14.0)\n",
      "Note: you may need to restart the kernel to use updated packages.\n"
     ]
    }
   ],
   "source": [
    "pip install httpx"
   ]
  },
  {
   "cell_type": "code",
   "execution_count": 3,
   "metadata": {},
   "outputs": [
    {
     "name": "stdout",
     "output_type": "stream",
     "text": [
      "Requirement already satisfied: scrapfly-sdk in /Library/Frameworks/Python.framework/Versions/3.11/lib/python3.11/site-packages (0.8.9)\n",
      "Requirement already satisfied: decorator>=4.2.0 in /Library/Frameworks/Python.framework/Versions/3.11/lib/python3.11/site-packages (from scrapfly-sdk) (5.1.1)\n",
      "Requirement already satisfied: requests>=2.25.0 in /Library/Frameworks/Python.framework/Versions/3.11/lib/python3.11/site-packages (from scrapfly-sdk) (2.31.0)\n",
      "Requirement already satisfied: python-dateutil<3.0.0,>=2.1 in /Library/Frameworks/Python.framework/Versions/3.11/lib/python3.11/site-packages (from scrapfly-sdk) (2.8.2)\n",
      "Requirement already satisfied: loguru>=0.5 in /Library/Frameworks/Python.framework/Versions/3.11/lib/python3.11/site-packages (from scrapfly-sdk) (0.7.2)\n",
      "Requirement already satisfied: urllib3>=1.26.0 in /Library/Frameworks/Python.framework/Versions/3.11/lib/python3.11/site-packages (from scrapfly-sdk) (2.0.4)\n",
      "Requirement already satisfied: backoff>=1.10.0 in /Library/Frameworks/Python.framework/Versions/3.11/lib/python3.11/site-packages (from scrapfly-sdk) (2.2.1)\n",
      "Requirement already satisfied: six>=1.5 in /Library/Frameworks/Python.framework/Versions/3.11/lib/python3.11/site-packages (from python-dateutil<3.0.0,>=2.1->scrapfly-sdk) (1.16.0)\n",
      "Requirement already satisfied: charset-normalizer<4,>=2 in /Library/Frameworks/Python.framework/Versions/3.11/lib/python3.11/site-packages (from requests>=2.25.0->scrapfly-sdk) (3.2.0)\n",
      "Requirement already satisfied: idna<4,>=2.5 in /Library/Frameworks/Python.framework/Versions/3.11/lib/python3.11/site-packages (from requests>=2.25.0->scrapfly-sdk) (3.4)\n",
      "Requirement already satisfied: certifi>=2017.4.17 in /Library/Frameworks/Python.framework/Versions/3.11/lib/python3.11/site-packages (from requests>=2.25.0->scrapfly-sdk) (2023.7.22)\n",
      "Note: you may need to restart the kernel to use updated packages.\n"
     ]
    }
   ],
   "source": [
    "pip install scrapfly-sdk\n"
   ]
  },
  {
   "cell_type": "code",
   "execution_count": 29,
   "metadata": {},
   "outputs": [],
   "source": [
    "import re\n",
    "import json\n",
    "import os\n",
    "import pandas as pd"
   ]
  },
  {
   "cell_type": "code",
   "execution_count": 50,
   "metadata": {},
   "outputs": [],
   "source": [
    "from scrapfly import ScrapflyClient, ScrapeConfig\n",
    "\n",
    "client = ScrapflyClient(key=\"scp-live-97e66d928428429c8ae1f3d0d9d2a352\")\n",
    "result = client.scrape(ScrapeConfig(\n",
    "    url=\"https://nl.indeed.com/jobs?q=data+engineer&sort=date&vjk=36a58709ca937c05\",\n",
    "    asp=True,\n",
    "    # ^ enable Anti Scraping Protection\n",
    "))\n"
   ]
  },
  {
   "cell_type": "code",
   "execution_count": 51,
   "metadata": {},
   "outputs": [],
   "source": [
    "soup = bs4.BeautifulSoup(result.content, \"lxml\")"
   ]
  },
  {
   "cell_type": "code",
   "execution_count": 52,
   "metadata": {},
   "outputs": [
    {
     "name": "stdout",
     "output_type": "stream",
     "text": [
      "[<h2 class=\"jobTitle css-mr1oe7 eu4oa1w0\" tabindex=\"-1\"><a aria-label=\"alle details van Data Analyst\" class=\"jcs-JobTitle css-jspxzf eu4oa1w0\" data-hide-spinner=\"true\" data-hiring-event=\"false\" data-jk=\"921d5fc6847ba295\" data-mobtk=\"1hcrticrqk9a8801\" href=\"/company/Insightuk/jobs/Data-Analyst-921d5fc6847ba295?fccid=49e802a15197cdd6&amp;vjs=3\" id=\"job_921d5fc6847ba295\" role=\"button\"><span id=\"jobTitle-921d5fc6847ba295\" title=\"Data Analyst\">Data Analyst</span></a></h2>, <h2 class=\"jobTitle css-mr1oe7 eu4oa1w0\" tabindex=\"-1\"><a aria-label=\"alle details van Data Engineer\" class=\"jcs-JobTitle css-jspxzf eu4oa1w0\" data-hide-spinner=\"true\" data-hiring-event=\"false\" data-jk=\"993846c85ce3cd5f\" data-mobtk=\"1hcrticrqk9a8801\" href=\"/rc/clk?jk=993846c85ce3cd5f&amp;fccid=a330320fbe5f2316&amp;vjs=3\" id=\"job_993846c85ce3cd5f\" role=\"button\"><span id=\"jobTitle-993846c85ce3cd5f\" title=\"Data Engineer\">Data Engineer</span></a></h2>, <h2 class=\"jobTitle css-mr1oe7 eu4oa1w0\" tabindex=\"-1\"><a aria-label=\"alle details van Physics | Mathematics Internship: Generating software tool(s) and data analysis\" class=\"jcs-JobTitle css-jspxzf eu4oa1w0\" data-hide-spinner=\"true\" data-hiring-event=\"false\" data-jk=\"6d0e907b21521b0d\" data-mobtk=\"1hcrticrqk9a8801\" href=\"/rc/clk?jk=6d0e907b21521b0d&amp;fccid=57ed5f0210b0681a&amp;vjs=3\" id=\"job_6d0e907b21521b0d\" role=\"button\"><span id=\"jobTitle-6d0e907b21521b0d\" title=\"Physics | Mathematics Internship: Generating software tool(s) and data analysis\">Physics | Mathematics Internship: Generating software tool(s) and data analysis</span></a></h2>, <h2 class=\"jobTitle css-mr1oe7 eu4oa1w0\" tabindex=\"-1\"><a aria-label=\"alle details van Business Information Management Internship: Data Model and Reporting Improvements\" class=\"jcs-JobTitle css-jspxzf eu4oa1w0\" data-hide-spinner=\"true\" data-hiring-event=\"false\" data-jk=\"71812e323a0032c2\" data-mobtk=\"1hcrticrqk9a8801\" href=\"/rc/clk?jk=71812e323a0032c2&amp;fccid=57ed5f0210b0681a&amp;vjs=3\" id=\"job_71812e323a0032c2\" role=\"button\"><span id=\"jobTitle-71812e323a0032c2\" title=\"Business Information Management Internship: Data Model and Reporting Improvements\">Business Information Management Internship: Data Model and Reporting Improvements</span></a></h2>, <h2 class=\"jobTitle css-mr1oe7 eu4oa1w0\" tabindex=\"-1\"><a aria-label=\"alle details van Supply Chain Management Internship (non-thesis): Supporting Supplier Operations Department\" class=\"jcs-JobTitle css-jspxzf eu4oa1w0\" data-hide-spinner=\"true\" data-hiring-event=\"false\" data-jk=\"085af260ac9a377b\" data-mobtk=\"1hcrticrqk9a8801\" href=\"/rc/clk?jk=085af260ac9a377b&amp;fccid=57ed5f0210b0681a&amp;vjs=3\" id=\"job_085af260ac9a377b\" role=\"button\"><span id=\"jobTitle-085af260ac9a377b\" title=\"Supply Chain Management Internship (non-thesis): Supporting Supplier Operations Department\">Supply Chain Management Internship (non-thesis): Supporting Supplier Operations Department</span></a></h2>, <h2 class=\"jobTitle css-mr1oe7 eu4oa1w0\" tabindex=\"-1\"><a aria-label=\"alle details van Proposal Engineer (JR) bij J. de Jonge in Vlaardingen\" class=\"jcs-JobTitle css-jspxzf eu4oa1w0\" data-hide-spinner=\"true\" data-hiring-event=\"false\" data-jk=\"d68f11f1d83667f8\" data-mobtk=\"1hcrticrqk9a8801\" href=\"/company/J-de-Jonge/jobs/Proposal-Engineer-d68f11f1d83667f8?fccid=e36591d3c82d0f58&amp;vjs=3\" id=\"job_d68f11f1d83667f8\" role=\"button\"><span id=\"jobTitle-d68f11f1d83667f8\" title=\"Proposal Engineer (JR) bij J. de Jonge in Vlaardingen\">Proposal Engineer (JR) bij J. de Jonge in Vlaardingen</span></a></h2>, <h2 class=\"jobTitle css-mr1oe7 eu4oa1w0\" tabindex=\"-1\"><a aria-label=\"alle details van Ethics | Legal Internship (non-thesis): Support the Ethics and Business Integrity team of ASML\" class=\"jcs-JobTitle css-jspxzf eu4oa1w0\" data-hide-spinner=\"true\" data-hiring-event=\"false\" data-jk=\"e35366e587cb588b\" data-mobtk=\"1hcrticrqk9a8801\" href=\"/rc/clk?jk=e35366e587cb588b&amp;fccid=57ed5f0210b0681a&amp;vjs=3\" id=\"job_e35366e587cb588b\" role=\"button\"><span id=\"jobTitle-e35366e587cb588b\" title=\"Ethics | Legal Internship (non-thesis): Support the Ethics and Business Integrity team of ASML\">Ethics | Legal Internship (non-thesis): Support the Ethics and Business Integrity team of ASML</span></a></h2>, <h2 class=\"jobTitle css-mr1oe7 eu4oa1w0\" tabindex=\"-1\"><a aria-label=\"alle details van Online Marketeer\" class=\"jcs-JobTitle css-jspxzf eu4oa1w0\" data-hide-spinner=\"true\" data-hiring-event=\"false\" data-jk=\"21132ea9ff4f095e\" data-mobtk=\"1hcrticrqk9a8801\" href=\"/company/J.C.-Intermediair-Bureau/jobs/Online-Marketeer-21132ea9ff4f095e?fccid=a997f49f6c7c9f77&amp;vjs=3\" id=\"job_21132ea9ff4f095e\" role=\"button\"><span id=\"jobTitle-21132ea9ff4f095e\" title=\"Online Marketeer\">Online Marketeer</span></a></h2>, <h2 class=\"jobTitle css-mr1oe7 eu4oa1w0\" tabindex=\"-1\"><a aria-label=\"alle details van Mechanical Engineering | Physics Internship: Development of a 3D FE model for Wafer Clamping\" class=\"jcs-JobTitle css-jspxzf eu4oa1w0\" data-hide-spinner=\"true\" data-hiring-event=\"false\" data-jk=\"4546c93c24d52acd\" data-mobtk=\"1hcrticrqk9a8801\" href=\"/rc/clk?jk=4546c93c24d52acd&amp;fccid=57ed5f0210b0681a&amp;vjs=3\" id=\"job_4546c93c24d52acd\" role=\"button\"><span id=\"jobTitle-4546c93c24d52acd\" title=\"Mechanical Engineering | Physics Internship: Development of a 3D FE model for Wafer Clamping\">Mechanical Engineering | Physics Internship: Development of a 3D FE model for Wafer Clamping</span></a></h2>, <h2 class=\"jobTitle css-mr1oe7 eu4oa1w0\" tabindex=\"-1\"><a aria-label=\"alle details van Computer Science Graduation Internship: Defining Guidelines for ASML created DSL\" class=\"jcs-JobTitle css-jspxzf eu4oa1w0\" data-hide-spinner=\"true\" data-hiring-event=\"false\" data-jk=\"fcad5db06b43ff66\" data-mobtk=\"1hcrticrqk9a8801\" href=\"/rc/clk?jk=fcad5db06b43ff66&amp;fccid=57ed5f0210b0681a&amp;vjs=3\" id=\"job_fcad5db06b43ff66\" role=\"button\"><span id=\"jobTitle-fcad5db06b43ff66\" title=\"Computer Science Graduation Internship: Defining Guidelines for ASML created DSL\">Computer Science Graduation Internship: Defining Guidelines for ASML created DSL</span></a></h2>, <h2 class=\"jobTitle css-mr1oe7 eu4oa1w0\" tabindex=\"-1\"><a aria-label=\"alle details van Quality Supplier Manager\" class=\"jcs-JobTitle css-jspxzf eu4oa1w0\" data-hide-spinner=\"true\" data-hiring-event=\"false\" data-jk=\"4cf20a51d979934b\" data-mobtk=\"1hcrticrqk9a8801\" href=\"/rc/clk?jk=4cf20a51d979934b&amp;fccid=57ed5f0210b0681a&amp;vjs=3\" id=\"job_4cf20a51d979934b\" role=\"button\"><span id=\"jobTitle-4cf20a51d979934b\" title=\"Quality Supplier Manager\">Quality Supplier Manager</span></a></h2>, <h2 class=\"jobTitle css-mr1oe7 eu4oa1w0\" tabindex=\"-1\"><a aria-label=\"alle details van Netwerk Engineer\" class=\"jcs-JobTitle css-jspxzf eu4oa1w0\" data-hide-spinner=\"true\" data-hiring-event=\"false\" data-jk=\"a44c23ae8e61dc3c\" data-mobtk=\"1hcrticrqk9a8801\" href=\"/company/De-Beste-Recruiters-(DBR)/jobs/Netwerk-Engineer-a44c23ae8e61dc3c?fccid=3c58ba3bc5f974b5&amp;vjs=3\" id=\"job_a44c23ae8e61dc3c\" role=\"button\"><span id=\"jobTitle-a44c23ae8e61dc3c\" title=\"Netwerk Engineer\">Netwerk Engineer</span></a></h2>, <h2 class=\"jobTitle jobTitle-newJob css-mr1oe7 eu4oa1w0\" tabindex=\"-1\"><a aria-label=\"alle details van senior Linux beheerder - Speciaal Beheerteam\" class=\"jcs-JobTitle css-jspxzf eu4oa1w0\" data-ci=\"419901615\" data-empn=\"9868850125126210\" data-hide-spinner=\"true\" data-hiring-event=\"false\" data-jk=\"5712a530829788d5\" data-mobtk=\"1hcrticrqk9a8801\" href=\"/pagead/clk?mo=r&amp;ad=-6NYlbfkN0Dkd1HLTtdlldS6BKneoWxqZNN5ByTgdaZ1_BWBEw_9esHZJnOeH1gKZoxZtuA0seI-4tH2wp6otKq8LckPVN5tsRqRgdfxiVE3vf00OHl0Qrsdg0l1jxSQnAD8P18q58697Dyj4FOngnJkcT1qf0n31wl20NNmTt2eg4F4rtJmscyry0ZNHUX1R14f-sOKvRHSJn6u6tgrCTIb8viMspiOGzD8VCv_eMIuwtOp36lE_O-bx7q2Q_6G1yjGGRW3bXSuGVIlYmMeEq9H2wNxq2tTjzBunMCROuDJ5-9Q8W3BKB6rS5zMFj8_emMXzv-CPO1xkADicaFReen7MHzTaj0CUmusjzrz6q8b0cXODEZ4-5clKYr8_sjJgE3FmUDANfdnJlC1kdAvNV9AHIAkBHgMyIBlAk31dFZO40zgqosG0DYLYuzIhIERuvF-MXICwN_GT1H1fGmEmySDRBE2_ug1XAWmEAl_nOGaPrEAe21BuY6CEsTxrfcVRxgDNwM58LuiYnZdVe081ZogvrZdUB2SWMz53xlYE3h4QXcDz6-NKRYZb5MmiTu0Uc3QM56kFC-aHCYX9KPs7XWB4_qJnUuzZdJRMGZyCrgGTlGOeHaQaExQNIGFbgJUcEPFc5Xx_6MvA3syaENFH8Vem_u8JeOWKXFVtpYZD3UJMP3pyFDOcyC5H6kQiFrXolD0fyylLQrAI2dGcHSwWAtN8iszoqzdKNwPNHebtg9OSEwCUxNjC6bmJbMhzTP_-eXN951UdgXfE_H4ztCHL77Uud3xoens8Rg-a8mUt6fLyp_hyb7em4rVDvu2mebdsf-IM2l4364MF_6LbcG_jSJPkqh__MEbOX-YA9Lwq3-u_1lcQj4zNUaRm9YbUNj-KHvkny7OKTk=&amp;xkcb=SoC9-_M3JbzGe_Rr9B0BbzkdCdPP&amp;p=12&amp;fvj=0&amp;vjs=3\" id=\"sj_5712a530829788d5\" role=\"button\"><span id=\"jobTitle-5712a530829788d5\" title=\"senior Linux beheerder - Speciaal Beheerteam\">senior Linux beheerder - Speciaal Beheerteam</span></a></h2>, <h2 class=\"jobTitle css-mr1oe7 eu4oa1w0\" tabindex=\"-1\"><a aria-label=\"alle details van Product Owner Klant Analytics\" class=\"jcs-JobTitle css-jspxzf eu4oa1w0\" data-hide-spinner=\"true\" data-hiring-event=\"false\" data-jk=\"02e541f4675dcaee\" data-mobtk=\"1hcrticrqk9a8801\" href=\"/rc/clk?jk=02e541f4675dcaee&amp;fccid=24018363fbadfe85&amp;vjs=3\" id=\"job_02e541f4675dcaee\" role=\"button\"><span id=\"jobTitle-02e541f4675dcaee\" title=\"Product Owner Klant Analytics\">Product Owner Klant Analytics</span></a></h2>, <h2 class=\"jobTitle css-mr1oe7 eu4oa1w0\" tabindex=\"-1\"><a aria-label=\"alle details van Consultant PDM PLM\" class=\"jcs-JobTitle css-jspxzf eu4oa1w0\" data-hide-spinner=\"true\" data-hiring-event=\"false\" data-jk=\"78a8efe86c270c91\" data-mobtk=\"1hcrticrqk9a8801\" href=\"/rc/clk?cmp=Cadmes&amp;ti=Pdm+%2F+Plm+Consultants&amp;jk=78a8efe86c270c91&amp;fccid=10da1bbacd056000&amp;vjs=3\" id=\"job_78a8efe86c270c91\" role=\"button\"><span id=\"jobTitle-78a8efe86c270c91\" title=\"Consultant PDM PLM\">Consultant PDM PLM</span></a></h2>]\n"
     ]
    }
   ],
   "source": [
    "job_titles = soup.find_all('h2', class_='jobTitle')\n",
    "print(job_titles)"
   ]
  },
  {
   "cell_type": "code",
   "execution_count": 53,
   "metadata": {},
   "outputs": [
    {
     "name": "stdout",
     "output_type": "stream",
     "text": [
      "Data Analyst\n",
      "Data Engineer\n",
      "Physics | Mathematics Internship: Generating software tool(s) and data analysis\n",
      "Business Information Management Internship: Data Model and Reporting Improvements\n",
      "Supply Chain Management Internship (non-thesis): Supporting Supplier Operations Department\n",
      "Proposal Engineer (JR) bij J. de Jonge in Vlaardingen\n",
      "Ethics | Legal Internship (non-thesis): Support the Ethics and Business Integrity team of ASML\n",
      "Online Marketeer\n",
      "Mechanical Engineering | Physics Internship: Development of a 3D FE model for Wafer Clamping\n",
      "Computer Science Graduation Internship: Defining Guidelines for ASML created DSL\n",
      "Quality Supplier Manager\n",
      "Netwerk Engineer\n",
      "senior Linux beheerder - Speciaal Beheerteam\n",
      "Product Owner Klant Analytics\n",
      "Consultant PDM PLM\n"
     ]
    }
   ],
   "source": [
    "jobs = []\n",
    "\n",
    "for title in job_titles:\n",
    "        jobs.append(title.text)\n",
    "        print(title.text)"
   ]
  },
  {
   "cell_type": "code",
   "execution_count": 54,
   "metadata": {},
   "outputs": [
    {
     "name": "stdout",
     "output_type": "stream",
     "text": [
      "[<span class=\"companyName\">Insight UK Ltd</span>, <span class=\"companyName\">Adwise - Your Digital Brain</span>, <span class=\"companyName\">ASML</span>, <span class=\"companyName\">ASML</span>, <span class=\"companyName\">ASML</span>, <span class=\"companyName\">J de Jonge</span>, <span class=\"companyName\">ASML</span>, <span class=\"companyName\">J.C. Intermediair Bureau</span>, <span class=\"companyName\">ASML</span>, <span class=\"companyName\">ASML</span>, <span class=\"companyName\">ASML</span>, <span class=\"companyName\">DBR groep</span>, <span class=\"companyName\">Politie</span>, <span class=\"companyName\">De Volksbank</span>, <span class=\"companyName\">Cadmes</span>]\n"
     ]
    }
   ],
   "source": [
    "company_titles = soup.find_all(class_='companyName')\n",
    "print(company_titles)"
   ]
  },
  {
   "cell_type": "code",
   "execution_count": 55,
   "metadata": {},
   "outputs": [
    {
     "name": "stdout",
     "output_type": "stream",
     "text": [
      "Insight UK Ltd\n",
      "Adwise - Your Digital Brain\n",
      "ASML\n",
      "ASML\n",
      "ASML\n",
      "J de Jonge\n",
      "ASML\n",
      "J.C. Intermediair Bureau\n",
      "ASML\n",
      "ASML\n",
      "ASML\n",
      "DBR groep\n",
      "Politie\n",
      "De Volksbank\n",
      "Cadmes\n"
     ]
    }
   ],
   "source": [
    "companies = []\n",
    "\n",
    "for title1 in company_titles:\n",
    "        companies.append(title1.text)\n",
    "        print(title1.text)"
   ]
  },
  {
   "cell_type": "code",
   "execution_count": 56,
   "metadata": {},
   "outputs": [
    {
     "name": "stdout",
     "output_type": "stream",
     "text": [
      "[<div class=\"companyLocation\">Hybride werken in 1103 Bijlmer Oost</div>, <div class=\"companyLocation\">Nederland</div>, <div class=\"companyLocation\">Veldhoven<span class=\"more_loc_container\"><a aria-label=\"Dezelfde vacature voor Physics | Mathematics Internship: Generating software tool(s) and data analysis op 7 andere locaties\" class=\"more_loc\" href=\"/addlLoc/redirect?tk=1hcrticrqk9a8801&amp;jk=6d0e907b21521b0d&amp;dest=%2Fjobs%3Fq%3Ddata%2Bengineer%26sort%3Ddate%26grpKey%3D8gcGdG5mdGNsuA-J2A6qEBMKCW5vcm10aXRsZRoGaW50ZXJu\" rel=\"nofollow\">+7 locations</a></span></div>, <div class=\"companyLocation\">Veldhoven</div>, <div class=\"companyLocation\">Veldhoven</div>, <div class=\"companyLocation\">3134 Vlaardingen</div>, <div class=\"companyLocation\">Veldhoven</div>, <div class=\"companyLocation\">Hybride werken in 2411 Bodegraven</div>, <div class=\"companyLocation\">Veldhoven<span class=\"more_loc_container\"><a aria-label=\"Dezelfde vacature voor Mechanical Engineering | Physics Internship: Development of a 3D FE model for Wafer Clamping op 1 andere locatie\" class=\"more_loc\" href=\"/addlLoc/redirect?tk=1hcrticrqk9a8801&amp;jk=4546c93c24d52acd&amp;dest=%2Fjobs%3Fq%3Ddata%2Bengineer%26sort%3Ddate%26grpKey%3D8gcGdG5mdGNsuA-J2A6qECAKCW5vcm10aXRsZRoTbWVjaGFuaWNhbCBlbmdpbmVlcg%253D%253D\" rel=\"nofollow\">+1 location</a></span></div>, <div class=\"companyLocation\">Eindhoven</div>, <div class=\"companyLocation\">Veldhoven</div>, <div class=\"companyLocation\">Hybride werken in 3013 Rotterdam</div>, <div class=\"companyLocation\">Hybride werken in Driebergen</div>, <div class=\"companyLocation\">Utrecht</div>, <div class=\"companyLocation\">Den Bosch</div>]\n"
     ]
    }
   ],
   "source": [
    "location = soup.find_all(class_='companyLocation')\n",
    "print(location)"
   ]
  },
  {
   "cell_type": "code",
   "execution_count": 57,
   "metadata": {},
   "outputs": [
    {
     "name": "stdout",
     "output_type": "stream",
     "text": [
      "Hybride werken in 1103 Bijlmer Oost\n",
      "Nederland\n",
      "Veldhoven+7 locations\n",
      "Veldhoven\n",
      "Veldhoven\n",
      "3134 Vlaardingen\n",
      "Veldhoven\n",
      "Hybride werken in 2411 Bodegraven\n",
      "Veldhoven+1 location\n",
      "Eindhoven\n",
      "Veldhoven\n",
      "Hybride werken in 3013 Rotterdam\n",
      "Hybride werken in Driebergen\n",
      "Utrecht\n",
      "Den Bosch\n"
     ]
    }
   ],
   "source": [
    "locations = []\n",
    "\n",
    "for title in location:\n",
    "        locations.append(title.text)\n",
    "        print(title.text)\n"
   ]
  },
  {
   "cell_type": "code",
   "execution_count": 58,
   "metadata": {},
   "outputs": [
    {
     "data": {
      "text/plain": [
       "[<span class=\"date\"><span class=\"visually-hidden\">Posted</span>Zojuist geplaatst</span>,\n",
       " <span class=\"date\"><span class=\"visually-hidden\">Posted</span>Zojuist geplaatst</span>,\n",
       " <span class=\"date\"><span class=\"visually-hidden\">Posted</span>Zojuist geplaatst</span>,\n",
       " <span class=\"date\"><span class=\"visually-hidden\">Posted</span>Zojuist geplaatst</span>,\n",
       " <span class=\"date\"><span class=\"visually-hidden\">Posted</span>Zojuist geplaatst</span>,\n",
       " <span class=\"date\"><span class=\"visually-hidden\">Posted</span>Zojuist geplaatst</span>,\n",
       " <span class=\"date\"><span class=\"visually-hidden\">Posted</span>Zojuist geplaatst</span>,\n",
       " <span class=\"date\"><span class=\"visually-hidden\">Posted</span>Zojuist geplaatst</span>,\n",
       " <span class=\"date\"><span class=\"visually-hidden\">Posted</span>Zojuist geplaatst</span>,\n",
       " <span class=\"date\"><span class=\"visually-hidden\">Posted</span>Zojuist geplaatst</span>,\n",
       " <span class=\"date\"><span class=\"visually-hidden\">Posted</span>Zojuist geplaatst</span>,\n",
       " <span class=\"date\"><span class=\"visually-hidden\">Posted</span>Zojuist geplaatst</span>,\n",
       " <span class=\"date\"><span class=\"visually-hidden\">Posted</span>Vandaag</span>,\n",
       " <span class=\"date\"><span class=\"visually-hidden\">Posted</span>Vandaag</span>,\n",
       " <span class=\"date\"><span class=\"visually-hidden\">Posted</span>Zojuist geplaatst</span>]"
      ]
     },
     "execution_count": 58,
     "metadata": {},
     "output_type": "execute_result"
    }
   ],
   "source": [
    "date = soup.find_all(class_=\"date\")\n",
    "date"
   ]
  },
  {
   "cell_type": "code",
   "execution_count": 59,
   "metadata": {},
   "outputs": [
    {
     "name": "stdout",
     "output_type": "stream",
     "text": [
      "PostedZojuist geplaatst\n",
      "PostedZojuist geplaatst\n",
      "PostedZojuist geplaatst\n",
      "PostedZojuist geplaatst\n",
      "PostedZojuist geplaatst\n",
      "PostedZojuist geplaatst\n",
      "PostedZojuist geplaatst\n",
      "PostedZojuist geplaatst\n",
      "PostedZojuist geplaatst\n",
      "PostedZojuist geplaatst\n",
      "PostedZojuist geplaatst\n",
      "PostedZojuist geplaatst\n",
      "PostedVandaag\n",
      "PostedVandaag\n",
      "PostedZojuist geplaatst\n"
     ]
    }
   ],
   "source": [
    "dates1 = []\n",
    "\n",
    "for title in date:\n",
    "        dates1.append(title.text)\n",
    "        print(title.text)\n",
    "\n",
    "dates = [date.replace(\"Posted\", \"\") for date in dates1] # Remove word 'Posted' from each string\n"
   ]
  },
  {
   "cell_type": "code",
   "execution_count": 60,
   "metadata": {},
   "outputs": [
    {
     "data": {
      "text/plain": [
       "[<div class=\"job-snippet\"><ul style=\"list-style-type:circle;margin-top: 0px;margin-bottom: 0px;padding-left:20px;\">\n",
       " <li style=\"margin-bottom:0px;\">The next thing <b>data</b> analysts do is use <b>data</b> modeling techniques to summarize the overall features of <b>data</b> analysis.</li>\n",
       " <li>Job Types: Contract, Full-time.</li>\n",
       " </ul></div>,\n",
       " <div class=\"job-snippet\"><ul style=\"list-style-type:circle;margin-top: 0px;margin-bottom: 0px;padding-left:20px;\">\n",
       " <li style=\"margin-bottom:0px;\">Kennis van <b>data</b> warehousing, ETL-processen en data-integratie is noodzakelijk.</li>\n",
       " <li>Je hebt een diepgaande passie voor <b>data</b> en technologie.</li>\n",
       " </ul></div>,\n",
       " <div class=\"job-snippet\"><ul style=\"list-style-type:circle;margin-top: 0px;margin-bottom: 0px;padding-left:20px;\">\n",
       " <li style=\"margin-bottom:0px;\">Verify correctness of <b>data</b> and demo dashboard.</li>\n",
       " <li style=\"margin-bottom:0px;\">Behind ASML’s innovations are <b>engineers</b> who think ahead.</li>\n",
       " <li>In particular, our Defectivity Database will deliver…</li>\n",
       " </ul></div>,\n",
       " <div class=\"job-snippet\"><ul style=\"list-style-type:circle;margin-top: 0px;margin-bottom: 0px;padding-left:20px;\">\n",
       " <li>The assignment is to work out the requirements for 1 central <b>data</b> model/database and reporting such that this can be the basis of a project that will start to…</li>\n",
       " </ul></div>,\n",
       " <div class=\"job-snippet\"><ul style=\"list-style-type:circle;margin-top: 0px;margin-bottom: 0px;padding-left:20px;\">\n",
       " <li style=\"margin-bottom:0px;\">Focusing on timely availability of specified data.</li>\n",
       " <li style=\"margin-bottom:0px;\">Behind ASML’s innovations are <b>engineers</b> who think ahead.</li>\n",
       " <li>As part of Sourcing &amp; Procurement, this department…</li>\n",
       " </ul></div>,\n",
       " <div class=\"job-snippet\"><ul style=\"list-style-type:circle;margin-top: 0px;margin-bottom: 0px;padding-left:20px;\">\n",
       " <li style=\"margin-bottom:0px;\">ERP-systemen: Je zorgt ervoor dat alle relevante <b>data</b> in onze ERP-systemen up-to-date is.</li>\n",
       " <li>Als Proposal <b>Engineer</b> zal je werkzaam zijn voor al onze projecten…</li>\n",
       " </ul></div>,\n",
       " <div class=\"job-snippet\"><ul style=\"list-style-type:circle;margin-top: 0px;margin-bottom: 0px;padding-left:20px;\">\n",
       " <li style=\"margin-bottom:0px;\">Behind ASML’s innovations are <b>engineers</b> who think ahead.</li>\n",
       " <li>Work within the case management system to assist with triage of incoming cases, closing and cleaning up…</li>\n",
       " </ul></div>,\n",
       " <div class=\"job-snippet\"><ul style=\"list-style-type:circle;margin-top: 0px;margin-bottom: 0px;padding-left:20px;\">\n",
       " <li>Jij hebt aantoonbare ervaring met initiatief nemen, talent voor design en hebt plezier in het analyseren van data;</li>\n",
       " </ul></div>,\n",
       " <div class=\"job-snippet\"><ul style=\"list-style-type:circle;margin-top: 0px;margin-bottom: 0px;padding-left:20px;\">\n",
       " <li style=\"margin-bottom:0px;\">Behind ASML’s innovations are <b>engineers</b> who think ahead.</li>\n",
       " <li style=\"margin-bottom:0px;\">Validate clampability model with existing experimental data.</li>\n",
       " <li>Have finite element modeling experience;</li>\n",
       " </ul></div>,\n",
       " <div class=\"job-snippet\"><ul style=\"list-style-type:circle;margin-top: 0px;margin-bottom: 0px;padding-left:20px;\">\n",
       " <li style=\"margin-bottom:0px;\">Behind ASML’s innovations are <b>engineers</b> who think ahead.</li>\n",
       " <li>Will you write software that drives the system to its best performance, or work side-by-side with the…</li>\n",
       " </ul></div>,\n",
       " <div class=\"job-snippet\"><ul style=\"list-style-type:circle;margin-top: 0px;margin-bottom: 0px;padding-left:20px;\">\n",
       " <li style=\"margin-bottom:0px;\">Able to analyze and draw conclusions from data/reports.</li>\n",
       " <li>To do this, the supply chain- and logistics <b>engineers</b> work with suppliers to continuously reduce cycle…</li>\n",
       " </ul></div>,\n",
       " <div class=\"job-snippet\"><ul style=\"list-style-type:circle;margin-top: 0px;margin-bottom: 0px;padding-left:20px;\">\n",
       " <li style=\"margin-bottom:0px;\">Dit bedrijf bestaat uit 7 medewerkers en bedient vooral klanten in regio Zuid-Holland en Noord-Brabant.</li>\n",
       " <li>Je werkt 80% van je tijd voor een grote, logistieke…</li>\n",
       " </ul></div>,\n",
       " <div class=\"job-snippet\"><ul style=\"list-style-type:circle;margin-top: 0px;margin-bottom: 0px;padding-left:20px;\">\n",
       " <li>In deze functie ben je samen met je collega's verantwoordelijk voor het beheer van de Linux-omgeving voor het SBT.</li>\n",
       " </ul></div>,\n",
       " <div class=\"job-snippet\"><ul style=\"list-style-type:circle;margin-top: 0px;margin-bottom: 0px;padding-left:20px;\">\n",
       " <li>Ruime ervaring met <b>data</b> en dataproducten (data management, <b>data</b> analyses, artificial intelligence, machine learning, dashboaring).</li>\n",
       " </ul></div>,\n",
       " <div class=\"job-snippet\"><ul style=\"list-style-type:circle;margin-top: 0px;margin-bottom: 0px;padding-left:20px;\">\n",
       " <li style=\"margin-bottom:0px;\">Full-time of Part-time · 's-Hertogenbosch - Nederland.</li>\n",
       " <li>Zodra het voorstel een project wordt help je de klant in het optimaliseren van processen en…</li>\n",
       " </ul></div>]"
      ]
     },
     "execution_count": 60,
     "metadata": {},
     "output_type": "execute_result"
    }
   ],
   "source": [
    "summary = soup.find_all(class_=\"job-snippet\")\n",
    "summary"
   ]
  },
  {
   "cell_type": "code",
   "execution_count": 61,
   "metadata": {},
   "outputs": [
    {
     "name": "stdout",
     "output_type": "stream",
     "text": [
      "\n",
      "The next thing data analysts do is use data modeling techniques to summarize the overall features of data analysis.\n",
      "Job Types: Contract, Full-time.\n",
      "\n",
      "\n",
      "Kennis van data warehousing, ETL-processen en data-integratie is noodzakelijk.\n",
      "Je hebt een diepgaande passie voor data en technologie.\n",
      "\n",
      "\n",
      "Verify correctness of data and demo dashboard.\n",
      "Behind ASML’s innovations are engineers who think ahead.\n",
      "In particular, our Defectivity Database will deliver…\n",
      "\n",
      "\n",
      "The assignment is to work out the requirements for 1 central data model/database and reporting such that this can be the basis of a project that will start to…\n",
      "\n",
      "\n",
      "Focusing on timely availability of specified data.\n",
      "Behind ASML’s innovations are engineers who think ahead.\n",
      "As part of Sourcing & Procurement, this department…\n",
      "\n",
      "\n",
      "ERP-systemen: Je zorgt ervoor dat alle relevante data in onze ERP-systemen up-to-date is.\n",
      "Als Proposal Engineer zal je werkzaam zijn voor al onze projecten…\n",
      "\n",
      "\n",
      "Behind ASML’s innovations are engineers who think ahead.\n",
      "Work within the case management system to assist with triage of incoming cases, closing and cleaning up…\n",
      "\n",
      "\n",
      "Jij hebt aantoonbare ervaring met initiatief nemen, talent voor design en hebt plezier in het analyseren van data;\n",
      "\n",
      "\n",
      "Behind ASML’s innovations are engineers who think ahead.\n",
      "Validate clampability model with existing experimental data.\n",
      "Have finite element modeling experience;\n",
      "\n",
      "\n",
      "Behind ASML’s innovations are engineers who think ahead.\n",
      "Will you write software that drives the system to its best performance, or work side-by-side with the…\n",
      "\n",
      "\n",
      "Able to analyze and draw conclusions from data/reports.\n",
      "To do this, the supply chain- and logistics engineers work with suppliers to continuously reduce cycle…\n",
      "\n",
      "\n",
      "Dit bedrijf bestaat uit 7 medewerkers en bedient vooral klanten in regio Zuid-Holland en Noord-Brabant.\n",
      "Je werkt 80% van je tijd voor een grote, logistieke…\n",
      "\n",
      "\n",
      "In deze functie ben je samen met je collega's verantwoordelijk voor het beheer van de Linux-omgeving voor het SBT.\n",
      "\n",
      "\n",
      "Ruime ervaring met data en dataproducten (data management, data analyses, artificial intelligence, machine learning, dashboaring).\n",
      "\n",
      "\n",
      "Full-time of Part-time · 's-Hertogenbosch - Nederland.\n",
      "Zodra het voorstel een project wordt help je de klant in het optimaliseren van processen en…\n",
      "\n"
     ]
    },
    {
     "data": {
      "text/plain": [
       "'\\nThe next thing data analysts do is use data modeling techniques to summarize the overall features of data analysis.\\nJob Types: Contract, Full-time.\\n'"
      ]
     },
     "execution_count": 61,
     "metadata": {},
     "output_type": "execute_result"
    }
   ],
   "source": [
    "summaries = []\n",
    "\n",
    "for title in summary:\n",
    "        summaries.append(title.text)\n",
    "        print(title.text)\n",
    "\n",
    "summaries[0]"
   ]
  },
  {
   "cell_type": "code",
   "execution_count": 62,
   "metadata": {},
   "outputs": [
    {
     "data": {
      "text/plain": [
       "[<h2 class=\"jobTitle css-mr1oe7 eu4oa1w0\" tabindex=\"-1\"><a aria-label=\"alle details van Data Analyst\" class=\"jcs-JobTitle css-jspxzf eu4oa1w0\" data-hide-spinner=\"true\" data-hiring-event=\"false\" data-jk=\"921d5fc6847ba295\" data-mobtk=\"1hcrticrqk9a8801\" href=\"/company/Insightuk/jobs/Data-Analyst-921d5fc6847ba295?fccid=49e802a15197cdd6&amp;vjs=3\" id=\"job_921d5fc6847ba295\" role=\"button\"><span id=\"jobTitle-921d5fc6847ba295\" title=\"Data Analyst\">Data Analyst</span></a></h2>,\n",
       " <h2 class=\"jobTitle css-mr1oe7 eu4oa1w0\" tabindex=\"-1\"><a aria-label=\"alle details van Data Engineer\" class=\"jcs-JobTitle css-jspxzf eu4oa1w0\" data-hide-spinner=\"true\" data-hiring-event=\"false\" data-jk=\"993846c85ce3cd5f\" data-mobtk=\"1hcrticrqk9a8801\" href=\"/rc/clk?jk=993846c85ce3cd5f&amp;fccid=a330320fbe5f2316&amp;vjs=3\" id=\"job_993846c85ce3cd5f\" role=\"button\"><span id=\"jobTitle-993846c85ce3cd5f\" title=\"Data Engineer\">Data Engineer</span></a></h2>,\n",
       " <h2 class=\"jobTitle css-mr1oe7 eu4oa1w0\" tabindex=\"-1\"><a aria-label=\"alle details van Physics | Mathematics Internship: Generating software tool(s) and data analysis\" class=\"jcs-JobTitle css-jspxzf eu4oa1w0\" data-hide-spinner=\"true\" data-hiring-event=\"false\" data-jk=\"6d0e907b21521b0d\" data-mobtk=\"1hcrticrqk9a8801\" href=\"/rc/clk?jk=6d0e907b21521b0d&amp;fccid=57ed5f0210b0681a&amp;vjs=3\" id=\"job_6d0e907b21521b0d\" role=\"button\"><span id=\"jobTitle-6d0e907b21521b0d\" title=\"Physics | Mathematics Internship: Generating software tool(s) and data analysis\">Physics | Mathematics Internship: Generating software tool(s) and data analysis</span></a></h2>,\n",
       " <h2 class=\"jobTitle css-mr1oe7 eu4oa1w0\" tabindex=\"-1\"><a aria-label=\"alle details van Business Information Management Internship: Data Model and Reporting Improvements\" class=\"jcs-JobTitle css-jspxzf eu4oa1w0\" data-hide-spinner=\"true\" data-hiring-event=\"false\" data-jk=\"71812e323a0032c2\" data-mobtk=\"1hcrticrqk9a8801\" href=\"/rc/clk?jk=71812e323a0032c2&amp;fccid=57ed5f0210b0681a&amp;vjs=3\" id=\"job_71812e323a0032c2\" role=\"button\"><span id=\"jobTitle-71812e323a0032c2\" title=\"Business Information Management Internship: Data Model and Reporting Improvements\">Business Information Management Internship: Data Model and Reporting Improvements</span></a></h2>,\n",
       " <h2 class=\"jobTitle css-mr1oe7 eu4oa1w0\" tabindex=\"-1\"><a aria-label=\"alle details van Supply Chain Management Internship (non-thesis): Supporting Supplier Operations Department\" class=\"jcs-JobTitle css-jspxzf eu4oa1w0\" data-hide-spinner=\"true\" data-hiring-event=\"false\" data-jk=\"085af260ac9a377b\" data-mobtk=\"1hcrticrqk9a8801\" href=\"/rc/clk?jk=085af260ac9a377b&amp;fccid=57ed5f0210b0681a&amp;vjs=3\" id=\"job_085af260ac9a377b\" role=\"button\"><span id=\"jobTitle-085af260ac9a377b\" title=\"Supply Chain Management Internship (non-thesis): Supporting Supplier Operations Department\">Supply Chain Management Internship (non-thesis): Supporting Supplier Operations Department</span></a></h2>,\n",
       " <h2 class=\"jobTitle css-mr1oe7 eu4oa1w0\" tabindex=\"-1\"><a aria-label=\"alle details van Proposal Engineer (JR) bij J. de Jonge in Vlaardingen\" class=\"jcs-JobTitle css-jspxzf eu4oa1w0\" data-hide-spinner=\"true\" data-hiring-event=\"false\" data-jk=\"d68f11f1d83667f8\" data-mobtk=\"1hcrticrqk9a8801\" href=\"/company/J-de-Jonge/jobs/Proposal-Engineer-d68f11f1d83667f8?fccid=e36591d3c82d0f58&amp;vjs=3\" id=\"job_d68f11f1d83667f8\" role=\"button\"><span id=\"jobTitle-d68f11f1d83667f8\" title=\"Proposal Engineer (JR) bij J. de Jonge in Vlaardingen\">Proposal Engineer (JR) bij J. de Jonge in Vlaardingen</span></a></h2>,\n",
       " <h2 class=\"jobTitle css-mr1oe7 eu4oa1w0\" tabindex=\"-1\"><a aria-label=\"alle details van Ethics | Legal Internship (non-thesis): Support the Ethics and Business Integrity team of ASML\" class=\"jcs-JobTitle css-jspxzf eu4oa1w0\" data-hide-spinner=\"true\" data-hiring-event=\"false\" data-jk=\"e35366e587cb588b\" data-mobtk=\"1hcrticrqk9a8801\" href=\"/rc/clk?jk=e35366e587cb588b&amp;fccid=57ed5f0210b0681a&amp;vjs=3\" id=\"job_e35366e587cb588b\" role=\"button\"><span id=\"jobTitle-e35366e587cb588b\" title=\"Ethics | Legal Internship (non-thesis): Support the Ethics and Business Integrity team of ASML\">Ethics | Legal Internship (non-thesis): Support the Ethics and Business Integrity team of ASML</span></a></h2>,\n",
       " <h2 class=\"jobTitle css-mr1oe7 eu4oa1w0\" tabindex=\"-1\"><a aria-label=\"alle details van Online Marketeer\" class=\"jcs-JobTitle css-jspxzf eu4oa1w0\" data-hide-spinner=\"true\" data-hiring-event=\"false\" data-jk=\"21132ea9ff4f095e\" data-mobtk=\"1hcrticrqk9a8801\" href=\"/company/J.C.-Intermediair-Bureau/jobs/Online-Marketeer-21132ea9ff4f095e?fccid=a997f49f6c7c9f77&amp;vjs=3\" id=\"job_21132ea9ff4f095e\" role=\"button\"><span id=\"jobTitle-21132ea9ff4f095e\" title=\"Online Marketeer\">Online Marketeer</span></a></h2>,\n",
       " <h2 class=\"jobTitle css-mr1oe7 eu4oa1w0\" tabindex=\"-1\"><a aria-label=\"alle details van Mechanical Engineering | Physics Internship: Development of a 3D FE model for Wafer Clamping\" class=\"jcs-JobTitle css-jspxzf eu4oa1w0\" data-hide-spinner=\"true\" data-hiring-event=\"false\" data-jk=\"4546c93c24d52acd\" data-mobtk=\"1hcrticrqk9a8801\" href=\"/rc/clk?jk=4546c93c24d52acd&amp;fccid=57ed5f0210b0681a&amp;vjs=3\" id=\"job_4546c93c24d52acd\" role=\"button\"><span id=\"jobTitle-4546c93c24d52acd\" title=\"Mechanical Engineering | Physics Internship: Development of a 3D FE model for Wafer Clamping\">Mechanical Engineering | Physics Internship: Development of a 3D FE model for Wafer Clamping</span></a></h2>,\n",
       " <h2 class=\"jobTitle css-mr1oe7 eu4oa1w0\" tabindex=\"-1\"><a aria-label=\"alle details van Computer Science Graduation Internship: Defining Guidelines for ASML created DSL\" class=\"jcs-JobTitle css-jspxzf eu4oa1w0\" data-hide-spinner=\"true\" data-hiring-event=\"false\" data-jk=\"fcad5db06b43ff66\" data-mobtk=\"1hcrticrqk9a8801\" href=\"/rc/clk?jk=fcad5db06b43ff66&amp;fccid=57ed5f0210b0681a&amp;vjs=3\" id=\"job_fcad5db06b43ff66\" role=\"button\"><span id=\"jobTitle-fcad5db06b43ff66\" title=\"Computer Science Graduation Internship: Defining Guidelines for ASML created DSL\">Computer Science Graduation Internship: Defining Guidelines for ASML created DSL</span></a></h2>,\n",
       " <h2 class=\"jobTitle css-mr1oe7 eu4oa1w0\" tabindex=\"-1\"><a aria-label=\"alle details van Quality Supplier Manager\" class=\"jcs-JobTitle css-jspxzf eu4oa1w0\" data-hide-spinner=\"true\" data-hiring-event=\"false\" data-jk=\"4cf20a51d979934b\" data-mobtk=\"1hcrticrqk9a8801\" href=\"/rc/clk?jk=4cf20a51d979934b&amp;fccid=57ed5f0210b0681a&amp;vjs=3\" id=\"job_4cf20a51d979934b\" role=\"button\"><span id=\"jobTitle-4cf20a51d979934b\" title=\"Quality Supplier Manager\">Quality Supplier Manager</span></a></h2>,\n",
       " <h2 class=\"jobTitle css-mr1oe7 eu4oa1w0\" tabindex=\"-1\"><a aria-label=\"alle details van Netwerk Engineer\" class=\"jcs-JobTitle css-jspxzf eu4oa1w0\" data-hide-spinner=\"true\" data-hiring-event=\"false\" data-jk=\"a44c23ae8e61dc3c\" data-mobtk=\"1hcrticrqk9a8801\" href=\"/company/De-Beste-Recruiters-(DBR)/jobs/Netwerk-Engineer-a44c23ae8e61dc3c?fccid=3c58ba3bc5f974b5&amp;vjs=3\" id=\"job_a44c23ae8e61dc3c\" role=\"button\"><span id=\"jobTitle-a44c23ae8e61dc3c\" title=\"Netwerk Engineer\">Netwerk Engineer</span></a></h2>,\n",
       " <h2 class=\"jobTitle jobTitle-newJob css-mr1oe7 eu4oa1w0\" tabindex=\"-1\"><a aria-label=\"alle details van senior Linux beheerder - Speciaal Beheerteam\" class=\"jcs-JobTitle css-jspxzf eu4oa1w0\" data-ci=\"419901615\" data-empn=\"9868850125126210\" data-hide-spinner=\"true\" data-hiring-event=\"false\" data-jk=\"5712a530829788d5\" data-mobtk=\"1hcrticrqk9a8801\" href=\"/pagead/clk?mo=r&amp;ad=-6NYlbfkN0Dkd1HLTtdlldS6BKneoWxqZNN5ByTgdaZ1_BWBEw_9esHZJnOeH1gKZoxZtuA0seI-4tH2wp6otKq8LckPVN5tsRqRgdfxiVE3vf00OHl0Qrsdg0l1jxSQnAD8P18q58697Dyj4FOngnJkcT1qf0n31wl20NNmTt2eg4F4rtJmscyry0ZNHUX1R14f-sOKvRHSJn6u6tgrCTIb8viMspiOGzD8VCv_eMIuwtOp36lE_O-bx7q2Q_6G1yjGGRW3bXSuGVIlYmMeEq9H2wNxq2tTjzBunMCROuDJ5-9Q8W3BKB6rS5zMFj8_emMXzv-CPO1xkADicaFReen7MHzTaj0CUmusjzrz6q8b0cXODEZ4-5clKYr8_sjJgE3FmUDANfdnJlC1kdAvNV9AHIAkBHgMyIBlAk31dFZO40zgqosG0DYLYuzIhIERuvF-MXICwN_GT1H1fGmEmySDRBE2_ug1XAWmEAl_nOGaPrEAe21BuY6CEsTxrfcVRxgDNwM58LuiYnZdVe081ZogvrZdUB2SWMz53xlYE3h4QXcDz6-NKRYZb5MmiTu0Uc3QM56kFC-aHCYX9KPs7XWB4_qJnUuzZdJRMGZyCrgGTlGOeHaQaExQNIGFbgJUcEPFc5Xx_6MvA3syaENFH8Vem_u8JeOWKXFVtpYZD3UJMP3pyFDOcyC5H6kQiFrXolD0fyylLQrAI2dGcHSwWAtN8iszoqzdKNwPNHebtg9OSEwCUxNjC6bmJbMhzTP_-eXN951UdgXfE_H4ztCHL77Uud3xoens8Rg-a8mUt6fLyp_hyb7em4rVDvu2mebdsf-IM2l4364MF_6LbcG_jSJPkqh__MEbOX-YA9Lwq3-u_1lcQj4zNUaRm9YbUNj-KHvkny7OKTk=&amp;xkcb=SoC9-_M3JbzGe_Rr9B0BbzkdCdPP&amp;p=12&amp;fvj=0&amp;vjs=3\" id=\"sj_5712a530829788d5\" role=\"button\"><span id=\"jobTitle-5712a530829788d5\" title=\"senior Linux beheerder - Speciaal Beheerteam\">senior Linux beheerder - Speciaal Beheerteam</span></a></h2>,\n",
       " <h2 class=\"jobTitle css-mr1oe7 eu4oa1w0\" tabindex=\"-1\"><a aria-label=\"alle details van Product Owner Klant Analytics\" class=\"jcs-JobTitle css-jspxzf eu4oa1w0\" data-hide-spinner=\"true\" data-hiring-event=\"false\" data-jk=\"02e541f4675dcaee\" data-mobtk=\"1hcrticrqk9a8801\" href=\"/rc/clk?jk=02e541f4675dcaee&amp;fccid=24018363fbadfe85&amp;vjs=3\" id=\"job_02e541f4675dcaee\" role=\"button\"><span id=\"jobTitle-02e541f4675dcaee\" title=\"Product Owner Klant Analytics\">Product Owner Klant Analytics</span></a></h2>,\n",
       " <h2 class=\"jobTitle css-mr1oe7 eu4oa1w0\" tabindex=\"-1\"><a aria-label=\"alle details van Consultant PDM PLM\" class=\"jcs-JobTitle css-jspxzf eu4oa1w0\" data-hide-spinner=\"true\" data-hiring-event=\"false\" data-jk=\"78a8efe86c270c91\" data-mobtk=\"1hcrticrqk9a8801\" href=\"/rc/clk?cmp=Cadmes&amp;ti=Pdm+%2F+Plm+Consultants&amp;jk=78a8efe86c270c91&amp;fccid=10da1bbacd056000&amp;vjs=3\" id=\"job_78a8efe86c270c91\" role=\"button\"><span id=\"jobTitle-78a8efe86c270c91\" title=\"Consultant PDM PLM\">Consultant PDM PLM</span></a></h2>]"
      ]
     },
     "execution_count": 62,
     "metadata": {},
     "output_type": "execute_result"
    }
   ],
   "source": [
    "new = soup.find_all(class_=\"jobTitle\")\n",
    "new"
   ]
  },
  {
   "cell_type": "markdown",
   "metadata": {},
   "source": [
    "Scraping over a number of pages:"
   ]
  },
  {
   "cell_type": "code",
   "execution_count": 30,
   "metadata": {},
   "outputs": [],
   "source": [
    "from scrapfly import ScrapflyClient, ScrapeConfig"
   ]
  },
  {
   "cell_type": "code",
   "execution_count": 46,
   "metadata": {},
   "outputs": [],
   "source": [
    "base_url = \"https://nl.indeed.com/jobs?q=data+engineer&sort=date&start={}&pp=gQAPAAABiyizvB4AAAACFCZAOgAzAQEBBjeYnseZdy9w-Qftxa67Fsj05lsRRghm0bLz1sXRAT0bC4DYUITB6UcSTtxqryc0AAA&vjk=0a5254d2ebbd5ac5\""
   ]
  },
  {
   "cell_type": "code",
   "execution_count": 47,
   "metadata": {},
   "outputs": [],
   "source": [
    "jobs = []\n",
    "companies = []\n",
    "locations = []\n",
    "dates1 = []\n",
    "dates = []\n",
    "    \n",
    "for i in range(0, 51, 10): # scrape page 1 to 6\n",
    "\n",
    "    client = ScrapflyClient(key=\"scp-live-97e66d928428429c8ae1f3d0d9d2a352\")\n",
    "    result = client.scrape(ScrapeConfig(\n",
    "        url=base_url.format(i),\n",
    "        asp=True,\n",
    "        # ^ enable Anti Scraping Protection\n",
    "    ))\n",
    "    \n",
    "    soup = bs4.BeautifulSoup(result.content, \"lxml\")\n",
    "    job_titles = soup.find_all('h2', class_='jobTitle')\n",
    "    company_titles = soup.find_all(class_='companyName')\n",
    "    location = soup.find_all(class_='companyLocation')\n",
    "    date = soup.find_all(class_=\"date\")\n",
    "\n",
    "\n",
    "    for title in job_titles:\n",
    "        jobs.append(title.text)\n",
    "\n",
    "    for title1 in company_titles:\n",
    "        companies.append(title1.text)\n",
    "\n",
    "    for title2 in location:\n",
    "        locations.append(title2.text)\n",
    "\n",
    "    for title3 in date:\n",
    "        dates1.append(title3.text)\n",
    "        dates = [date.replace(\"Posted\", \"\") for date in dates1] # Remove word 'Posted' from each string\n",
    "\n",
    "\n",
    "    "
   ]
  },
  {
   "cell_type": "code",
   "execution_count": 49,
   "metadata": {},
   "outputs": [
    {
     "data": {
      "text/html": [
       "<div>\n",
       "<style scoped>\n",
       "    .dataframe tbody tr th:only-of-type {\n",
       "        vertical-align: middle;\n",
       "    }\n",
       "\n",
       "    .dataframe tbody tr th {\n",
       "        vertical-align: top;\n",
       "    }\n",
       "\n",
       "    .dataframe thead th {\n",
       "        text-align: right;\n",
       "    }\n",
       "</style>\n",
       "<table border=\"1\" class=\"dataframe\">\n",
       "  <thead>\n",
       "    <tr style=\"text-align: right;\">\n",
       "      <th></th>\n",
       "      <th>Companies</th>\n",
       "      <th>Jobs</th>\n",
       "      <th>Locations</th>\n",
       "      <th>Posted</th>\n",
       "    </tr>\n",
       "  </thead>\n",
       "  <tbody>\n",
       "    <tr>\n",
       "      <th>0</th>\n",
       "      <td>ASML</td>\n",
       "      <td>Business Administration Internship (non-thesis...</td>\n",
       "      <td>Eindhoven</td>\n",
       "      <td>Zojuist geplaatst</td>\n",
       "    </tr>\n",
       "    <tr>\n",
       "      <th>1</th>\n",
       "      <td>Politie</td>\n",
       "      <td>legal hacker - Digital Intrusion Team</td>\n",
       "      <td>Driebergen</td>\n",
       "      <td>Vandaag</td>\n",
       "    </tr>\n",
       "    <tr>\n",
       "      <th>2</th>\n",
       "      <td>Rijksvastgoedbedrijf (RVB, Ministerie van BZK)</td>\n",
       "      <td>Projectleider servicecontracten Defensievastgoed</td>\n",
       "      <td>Den Haag+1 location</td>\n",
       "      <td>Vandaag</td>\n",
       "    </tr>\n",
       "    <tr>\n",
       "      <th>3</th>\n",
       "      <td>Politie</td>\n",
       "      <td>senior Linux beheerder - Speciaal Beheerteam</td>\n",
       "      <td>Hybride werken in Driebergen</td>\n",
       "      <td>Vandaag</td>\n",
       "    </tr>\n",
       "    <tr>\n",
       "      <th>4</th>\n",
       "      <td>Rijksvastgoedbedrijf (RVB, Ministerie van BZK)</td>\n",
       "      <td>Adviseur werktuigbouwkunde</td>\n",
       "      <td>Den Haag</td>\n",
       "      <td>Vandaag</td>\n",
       "    </tr>\n",
       "    <tr>\n",
       "      <th>...</th>\n",
       "      <td>...</td>\n",
       "      <td>...</td>\n",
       "      <td>...</td>\n",
       "      <td>...</td>\n",
       "    </tr>\n",
       "    <tr>\n",
       "      <th>85</th>\n",
       "      <td>Electronics &amp; Telematics bv</td>\n",
       "      <td>Technisch commerciele sales engineer</td>\n",
       "      <td>Thuiswerken</td>\n",
       "      <td>2 dagen geleden geplaatst</td>\n",
       "    </tr>\n",
       "    <tr>\n",
       "      <th>86</th>\n",
       "      <td>ClickHouse</td>\n",
       "      <td>Sr Cloud Infrastructure Engineer- Remote</td>\n",
       "      <td>Thuiswerken in Amsterdam</td>\n",
       "      <td>2 dagen geleden geplaatst</td>\n",
       "    </tr>\n",
       "    <tr>\n",
       "      <th>87</th>\n",
       "      <td>FixedToday</td>\n",
       "      <td>Senior Lead Matlab/Simulink engineer</td>\n",
       "      <td>Breda</td>\n",
       "      <td>2 dagen geleden geplaatst</td>\n",
       "    </tr>\n",
       "    <tr>\n",
       "      <th>88</th>\n",
       "      <td>True Legends</td>\n",
       "      <td>Lead Embedded Software Engineer</td>\n",
       "      <td>Hybride werken in 3511 Utrecht</td>\n",
       "      <td>EmployerActief: 3 dagen geleden</td>\n",
       "    </tr>\n",
       "    <tr>\n",
       "      <th>89</th>\n",
       "      <td>Itaq Interim Professionals BV</td>\n",
       "      <td>Windows Engineer</td>\n",
       "      <td>Groningen+1 location</td>\n",
       "      <td>2 dagen geleden geplaatst</td>\n",
       "    </tr>\n",
       "  </tbody>\n",
       "</table>\n",
       "<p>90 rows × 4 columns</p>\n",
       "</div>"
      ],
      "text/plain": [
       "                                         Companies  \\\n",
       "0                                             ASML   \n",
       "1                                          Politie   \n",
       "2   Rijksvastgoedbedrijf (RVB, Ministerie van BZK)   \n",
       "3                                          Politie   \n",
       "4   Rijksvastgoedbedrijf (RVB, Ministerie van BZK)   \n",
       "..                                             ...   \n",
       "85                     Electronics & Telematics bv   \n",
       "86                                      ClickHouse   \n",
       "87                                      FixedToday   \n",
       "88                                    True Legends   \n",
       "89                   Itaq Interim Professionals BV   \n",
       "\n",
       "                                                 Jobs  \\\n",
       "0   Business Administration Internship (non-thesis...   \n",
       "1               legal hacker - Digital Intrusion Team   \n",
       "2    Projectleider servicecontracten Defensievastgoed   \n",
       "3        senior Linux beheerder - Speciaal Beheerteam   \n",
       "4                          Adviseur werktuigbouwkunde   \n",
       "..                                                ...   \n",
       "85               Technisch commerciele sales engineer   \n",
       "86           Sr Cloud Infrastructure Engineer- Remote   \n",
       "87               Senior Lead Matlab/Simulink engineer   \n",
       "88                    Lead Embedded Software Engineer   \n",
       "89                                   Windows Engineer   \n",
       "\n",
       "                         Locations                           Posted  \n",
       "0                        Eindhoven                Zojuist geplaatst  \n",
       "1                       Driebergen                          Vandaag  \n",
       "2              Den Haag+1 location                          Vandaag  \n",
       "3     Hybride werken in Driebergen                          Vandaag  \n",
       "4                         Den Haag                          Vandaag  \n",
       "..                             ...                              ...  \n",
       "85                     Thuiswerken        2 dagen geleden geplaatst  \n",
       "86        Thuiswerken in Amsterdam        2 dagen geleden geplaatst  \n",
       "87                           Breda        2 dagen geleden geplaatst  \n",
       "88  Hybride werken in 3511 Utrecht  EmployerActief: 3 dagen geleden  \n",
       "89            Groningen+1 location        2 dagen geleden geplaatst  \n",
       "\n",
       "[90 rows x 4 columns]"
      ]
     },
     "execution_count": 49,
     "metadata": {},
     "output_type": "execute_result"
    }
   ],
   "source": [
    "result = pd.DataFrame()\n",
    "result = pd.DataFrame({'Companies': companies,'Jobs':jobs, 'Locations': locations, 'Posted':dates})\n",
    "\n",
    "result"
   ]
  }
 ],
 "metadata": {
  "kernelspec": {
   "display_name": "Python 3",
   "language": "python",
   "name": "python3"
  },
  "language_info": {
   "codemirror_mode": {
    "name": "ipython",
    "version": 3
   },
   "file_extension": ".py",
   "mimetype": "text/x-python",
   "name": "python",
   "nbconvert_exporter": "python",
   "pygments_lexer": "ipython3",
   "version": "3.11.4"
  },
  "orig_nbformat": 4
 },
 "nbformat": 4,
 "nbformat_minor": 2
}
